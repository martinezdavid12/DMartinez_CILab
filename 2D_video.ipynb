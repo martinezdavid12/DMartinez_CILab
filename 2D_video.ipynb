{
 "cells": [
  {
   "cell_type": "code",
   "execution_count": 31,
   "metadata": {},
   "outputs": [
    {
     "name": "stdout",
     "output_type": "stream",
     "text": [
      "Device is: cpu\n"
     ]
    }
   ],
   "source": [
    "#Import PyTorch and matplotlib\n",
    "import torch\n",
    "import torchvision\n",
    "from torch import nn\n",
    "from torchvision import transforms\n",
    "import imageio.v3 as iio\n",
    "import numpy as np\n",
    "import matplotlib.pyplot as plt\n",
    "import time\n",
    "from pthflops import count_ops\n",
    "\n",
    "video = iio.imread(\"c_elegans.mp4\")\n",
    "convert_tensor = transforms.ToTensor()\n",
    "\n",
    "#Check PyTorch version\n",
    "torch.__version__\n",
    "\n",
    "#Setup device agnostic code (i.e use GPU if possible)\n",
    "device = \"cuda\" if torch.cuda.is_available() else \"cpu\"\n",
    "tensor = torch.tensor([1,2,3])\n",
    "print(\"Device is: \" + str(device))"
   ]
  },
  {
   "cell_type": "code",
   "execution_count": 43,
   "metadata": {},
   "outputs": [
    {
     "name": "stdout",
     "output_type": "stream",
     "text": [
      "Shape (frames, w, h, RGB): \n",
      "(2484, 322, 344, 3)\n",
      "2484\n",
      "uint8\n",
      "\n"
     ]
    }
   ],
   "source": [
    "#Video Metadata\n",
    "import imageio.v3 as iio\n",
    "props = iio.improps(\"c_elegans.mp4\")\n",
    "print(\"Shape (frames, w, h, RGB): \\n\" + str(props.shape))\n",
    "print(props.dtype)\n",
    "print()"
   ]
  },
  {
   "cell_type": "code",
   "execution_count": 50,
   "metadata": {},
   "outputs": [
    {
     "data": {
      "text/plain": [
       "(<function Tensor.type>, torch.Size([2484]))"
      ]
     },
     "execution_count": 50,
     "metadata": {},
     "output_type": "execute_result"
    }
   ],
   "source": [
    "# Create video tensor\n",
    "vid = torch.zeros(props.shape[0])\n",
    "vid.type, vid.shape"
   ]
  },
  {
   "attachments": {},
   "cell_type": "markdown",
   "metadata": {},
   "source": [
    "### Encoding image data as tensors"
   ]
  },
  {
   "cell_type": "code",
   "execution_count": null,
   "metadata": {},
   "outputs": [],
   "source": []
  },
  {
   "cell_type": "markdown",
   "metadata": {},
   "source": []
  },
  {
   "attachments": {},
   "cell_type": "markdown",
   "metadata": {},
   "source": [
    "### Differentiable Model (MLP-based Model)"
   ]
  },
  {
   "cell_type": "code",
   "execution_count": null,
   "metadata": {},
   "outputs": [],
   "source": [
    "import torch\n",
    "from torch import nn\n",
    "#from torchvision.datasets import CIFAR10\n",
    "from torch.utils.data import DataLoader\n",
    "from torchvision import transforms\n",
    "\n",
    "#Use seed for reproducibility\n",
    "torch.manual_seed(42)\n",
    "#Multilayer Percepetron Model \n",
    "class MLP(nn.Module):\n",
    "    def __init__(self):\n",
    "        super().__init__()\n",
    "        self.layers = nn.Sequential(\n",
    "        nn.Flatten(),\n",
    "        nn.Linear(32 * 32 * 3, 64),\n",
    "        nn.ReLU(),\n",
    "        nn.Linear(64, 32),\n",
    "        nn.ReLU(),\n",
    "        nn.Linear(32, 10)\n",
    "        )\n",
    "    #forward reconstruction\n",
    "    def forward(self, x, y, t):\n",
    "        return self.layers(x, y, t)\n",
    "    \n"
   ]
  },
  {
   "cell_type": "code",
   "execution_count": null,
   "metadata": {},
   "outputs": [],
   "source": [
    "#Create an Instance and set loss function & optimizer\n",
    "model_0 = MLP()\n",
    "\n",
    "loss_function = torch.nn.MSELoss()\n",
    "optimizer = None #working on creating the inverse optimization function based on grad and MSE\n",
    "\n",
    "list(model_0.parameters())\n"
   ]
  },
  {
   "cell_type": "code",
   "execution_count": null,
   "metadata": {},
   "outputs": [],
   "source": [
    "#DUMMY VARIABLE FOR THE MOMENT\n",
    "t = 30 # time/ frame is a dummy variable for now\n",
    "trainData = torch.rand((t,1920,1080,3))\n",
    "\n",
    "#initialize loader\n",
    "trainLoader = torch.utils.data.DataLoader(trainData, batch_size=10, shuffle=True, num_workers=1)\n",
    "trainData.shape, trainLoader\n"
   ]
  },
  {
   "attachments": {},
   "cell_type": "markdown",
   "metadata": {},
   "source": [
    "### Training Loop\n"
   ]
  },
  {
   "cell_type": "code",
   "execution_count": null,
   "metadata": {},
   "outputs": [],
   "source": [
    "def trainLoop():\n",
    "  #Track values\n",
    "  epoch_count = []\n",
    "  loss_values = []\n",
    "  test_loss_values = []\n",
    "  #Loop through data\n",
    "  for epoch in range(0, 5):\n",
    "      epoch_count.append(epoch)\n",
    "      # Set current loss value\n",
    "      current_loss = 0.0\n",
    "      # Set Model to training mode\n",
    "      model_0.train()\n",
    "  \n",
    "  #will implement trainLoader-style data feed system\n",
    "  \n",
    "  # Iterate over the DataLoader for training data\n",
    "  for i, data in enumerate(trainLoader, 0):\n",
    "    \n",
    "    # Determine inputs (4D tensor data)\n",
    "    inputs, targets = data\n",
    "    \n",
    "    # Zero the gradients\n",
    "    optimizer.zero_grad()\n",
    "    \n",
    "    # Perform forward pass\n",
    "    outputs = model_0(inputs)\n",
    "    \n",
    "    # Compute loss (training)\n",
    "    loss = loss_function(outputs, targets)\n",
    "    \n",
    "    # Perform backpropagation on loss with respect to params\n",
    "    loss.backward()\n",
    "    \n",
    "    # \n",
    "    optimizer.step()\n",
    "    \n",
    "    #Stat things\n",
    "    if(epoch % 10 == 0):\n",
    "        epoch_count.append(epoch)\n",
    "        loss_values.append(loss)\n",
    "        test_loss_values.append(test_loss)\n",
    "        print(f\"Epoch {epoch} | Loss: {loss} | Test loss: {test_loss}\")\n",
    "        # Print out the model state_dict()\n",
    "        print(model_0.state_dict())\n",
    "\n",
    "  print('Training finished')\n"
   ]
  },
  {
   "cell_type": "code",
   "execution_count": null,
   "metadata": {},
   "outputs": [],
   "source": [
    "trainLoop()  # Not functional yet"
   ]
  },
  {
   "cell_type": "code",
   "execution_count": null,
   "metadata": {},
   "outputs": [],
   "source": []
  }
 ],
 "metadata": {
  "kernelspec": {
   "display_name": "base",
   "language": "python",
   "name": "python3"
  },
  "language_info": {
   "codemirror_mode": {
    "name": "ipython",
    "version": 3
   },
   "file_extension": ".py",
   "mimetype": "text/x-python",
   "name": "python",
   "nbconvert_exporter": "python",
   "pygments_lexer": "ipython3",
   "version": "3.9.13"
  },
  "orig_nbformat": 4,
  "vscode": {
   "interpreter": {
    "hash": "07a481119aadb6992ff0da222930d2b0a8a26de193018adba40c1ff699702765"
   }
  }
 },
 "nbformat": 4,
 "nbformat_minor": 2
}
