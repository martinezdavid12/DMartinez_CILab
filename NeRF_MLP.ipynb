{
 "cells": [
  {
   "cell_type": "code",
   "execution_count": 67,
   "metadata": {},
   "outputs": [
    {
     "name": "stdout",
     "output_type": "stream",
     "text": [
      "Device is: cpu\n"
     ]
    }
   ],
   "source": [
    "#Import PyTorch and matplotlib\n",
    "import torch\n",
    "from torch import nn\n",
    "import matplotlib.pyplot as plt\n",
    "\n",
    "#Check PyTorch version\n",
    "torch.__version__\n",
    "\n",
    "#Setup device agnostic code (i.e use GPU if possible)\n",
    "device = \"cuda\" if torch.cuda.is_available() else \"cpu\"\n",
    "tensor = torch.tensor([1,2,3])\n",
    "print(\"Device is: \" + str(device))"
   ]
  },
  {
   "attachments": {},
   "cell_type": "markdown",
   "metadata": {},
   "source": [
    "### Encoding image data as tensors"
   ]
  },
  {
   "cell_type": "markdown",
   "metadata": {},
   "source": []
  },
  {
   "attachments": {},
   "cell_type": "markdown",
   "metadata": {},
   "source": [
    "### Differentiable Model (MLP-based Model)"
   ]
  },
  {
   "cell_type": "code",
   "execution_count": 68,
   "metadata": {},
   "outputs": [],
   "source": [
    "import torch\n",
    "from torch import nn\n",
    "#from torchvision.datasets import CIFAR10\n",
    "from torch.utils.data import DataLoader\n",
    "from torchvision import transforms\n",
    "\n",
    "#Use seed for reproducibility\n",
    "torch.manual_seed(42)\n",
    "#Multilayer Percepetron Model \n",
    "class MLP(nn.Module):\n",
    "    def __init__(self):\n",
    "        super().__init__()\n",
    "        self.layers = nn.Sequential(\n",
    "        nn.Flatten(),\n",
    "        nn.Linear(32 * 32 * 3, 64),\n",
    "        nn.ReLU(),\n",
    "        nn.Linear(64, 32),\n",
    "        nn.ReLU(),\n",
    "        nn.Linear(32, 10)\n",
    "        )\n",
    "    #forward reconstruction\n",
    "    def forward(self, x, y, t):\n",
    "        return self.layers(x, y, t)\n",
    "    \n"
   ]
  },
  {
   "cell_type": "code",
   "execution_count": 69,
   "metadata": {},
   "outputs": [
    {
     "data": {
      "text/plain": [
       "[Parameter containing:\n",
       " tensor([[ 0.0138,  0.0150, -0.0042,  ...,  0.0084, -0.0107,  0.0092],\n",
       "         [-0.0045,  0.0016, -0.0048,  ..., -0.0164, -0.0122, -0.0039],\n",
       "         [-0.0143,  0.0034, -0.0036,  ...,  0.0054,  0.0108, -0.0045],\n",
       "         ...,\n",
       "         [ 0.0164,  0.0117, -0.0101,  ...,  0.0167, -0.0042,  0.0151],\n",
       "         [-0.0033, -0.0094, -0.0149,  ..., -0.0111,  0.0041, -0.0064],\n",
       "         [ 0.0031, -0.0009,  0.0133,  ...,  0.0009,  0.0056, -0.0007]],\n",
       "        requires_grad=True),\n",
       " Parameter containing:\n",
       " tensor([ 9.8439e-03,  1.2176e-02,  7.7108e-03,  6.3064e-03,  1.5135e-02,\n",
       "         -5.5018e-03,  9.7189e-03, -5.3645e-03, -3.6068e-03, -8.7851e-03,\n",
       "         -4.9540e-03,  1.1597e-02,  1.2223e-02, -5.6542e-03,  8.7367e-03,\n",
       "         -1.0297e-02,  8.2058e-03, -8.3836e-03, -1.3062e-02,  1.0474e-02,\n",
       "         -7.6051e-03,  1.5005e-02, -1.5929e-02,  1.3956e-02,  1.4779e-03,\n",
       "          1.6280e-02, -1.3227e-02,  1.1444e-02,  3.7610e-04,  5.2834e-03,\n",
       "         -1.7869e-02, -1.5279e-02, -1.5214e-02,  9.6435e-03, -1.2390e-02,\n",
       "         -1.8427e-03, -5.8699e-03, -6.6946e-03,  1.4883e-02, -2.9103e-03,\n",
       "          1.7585e-02, -9.4660e-03,  1.0195e-02, -5.2745e-03, -4.0587e-03,\n",
       "          1.1182e-02, -1.5248e-02, -1.7135e-02,  8.2434e-03, -1.3292e-02,\n",
       "         -1.7693e-02,  6.2561e-03, -1.3508e-02, -1.1368e-02, -2.2648e-03,\n",
       "          6.3071e-03, -2.2725e-03, -1.5216e-02,  1.5292e-02,  8.0767e-03,\n",
       "         -3.2181e-05, -1.1673e-02, -1.6390e-02, -2.5019e-03],\n",
       "        requires_grad=True),\n",
       " Parameter containing:\n",
       " tensor([[-0.0311, -0.0290,  0.0045,  ..., -0.0919, -0.1115,  0.1009],\n",
       "         [-0.0478, -0.0613,  0.0938,  ..., -0.0149, -0.0219, -0.0710],\n",
       "         [ 0.0736, -0.0806,  0.1011,  ..., -0.0460,  0.1170,  0.0463],\n",
       "         ...,\n",
       "         [ 0.0524,  0.1085,  0.0091,  ...,  0.0973, -0.0748, -0.1185],\n",
       "         [ 0.0786,  0.0009,  0.1238,  ..., -0.0363,  0.0478,  0.0009],\n",
       "         [-0.0067, -0.0542,  0.0723,  ...,  0.0824,  0.0265,  0.0539]],\n",
       "        requires_grad=True),\n",
       " Parameter containing:\n",
       " tensor([ 0.1049, -0.0386, -0.0705,  0.0555, -0.0979,  0.0571,  0.0641, -0.0355,\n",
       "         -0.1205, -0.0459, -0.1217, -0.0328, -0.0436,  0.0300, -0.0610, -0.0850,\n",
       "          0.0555, -0.0798,  0.0842, -0.0737, -0.0543,  0.1116, -0.0834, -0.0498,\n",
       "          0.0892, -0.0563, -0.0737,  0.1168, -0.1104, -0.0644, -0.0380, -0.0987],\n",
       "        requires_grad=True),\n",
       " Parameter containing:\n",
       " tensor([[ 1.6184e-02, -8.3618e-02, -1.6563e-01,  9.7684e-02,  1.1085e-01,\n",
       "          -9.1274e-02,  8.1770e-02,  6.0025e-03,  1.5986e-01,  6.2614e-02,\n",
       "           6.1752e-02, -6.1856e-02, -1.0770e-01, -9.8255e-02, -8.7405e-02,\n",
       "          -5.9313e-02, -1.4131e-01, -4.5366e-02, -1.7127e-01, -1.0290e-01,\n",
       "          -9.1369e-02, -6.6522e-02,  1.6412e-01, -9.8003e-02, -1.1947e-01,\n",
       "           1.4577e-02, -7.5687e-02, -9.3929e-02,  1.3144e-01,  8.6770e-02,\n",
       "          -1.7194e-01, -1.5313e-01],\n",
       "         [-4.1396e-02, -1.7026e-01,  5.1543e-02,  1.4663e-01,  8.3638e-02,\n",
       "           3.5897e-02, -1.0708e-02, -1.9898e-02,  1.4366e-01,  1.4680e-01,\n",
       "          -1.1934e-01, -6.2317e-02,  7.6610e-02, -1.4878e-01,  5.9812e-02,\n",
       "          -6.4658e-02,  2.1087e-02, -5.4364e-02, -4.9906e-02, -3.2457e-02,\n",
       "          -1.1892e-01, -4.9034e-02, -3.2237e-02, -8.7700e-02, -1.1055e-01,\n",
       "          -7.1123e-02, -8.6568e-02,  9.6486e-02, -5.9771e-02, -1.0951e-01,\n",
       "           8.7553e-02, -6.5287e-02],\n",
       "         [ 1.2578e-01,  2.4047e-03,  1.0003e-02,  1.0473e-01, -1.5340e-02,\n",
       "          -1.6541e-01, -1.1905e-01,  1.4002e-01,  8.4208e-03, -4.9340e-02,\n",
       "           5.3414e-02, -1.5484e-02, -1.5731e-01,  8.6817e-02, -4.9790e-02,\n",
       "          -1.9151e-03,  1.0059e-01, -5.0923e-02,  1.7007e-01,  3.5465e-02,\n",
       "          -1.6849e-01,  3.1519e-02,  6.4698e-04, -1.3117e-01, -1.0935e-01,\n",
       "           5.9434e-02, -1.1083e-01, -5.3089e-02,  8.7525e-02, -1.6788e-01,\n",
       "           1.5126e-01,  7.9735e-02],\n",
       "         [-1.0266e-01,  1.6237e-01, -9.8409e-02,  6.0782e-02,  2.2380e-03,\n",
       "          -1.5018e-01,  1.3686e-02, -7.4906e-02, -1.3485e-01, -1.4492e-01,\n",
       "          -1.4977e-01,  1.3820e-01, -1.1332e-01,  1.2144e-01, -1.5070e-01,\n",
       "           3.6922e-02,  1.0087e-01,  1.7524e-01,  2.2280e-02,  9.0122e-02,\n",
       "           6.1169e-05, -2.2896e-02, -1.2549e-01, -1.6601e-01,  7.9973e-02,\n",
       "           1.7116e-01,  5.7066e-03, -1.4109e-01,  7.2990e-02,  6.5711e-02,\n",
       "          -9.0280e-02, -1.2614e-01],\n",
       "         [ 1.2695e-01, -1.2068e-01,  1.4704e-01,  1.1148e-01, -6.3782e-02,\n",
       "          -1.0769e-01, -3.7492e-02, -5.4080e-02,  1.1758e-01,  3.0626e-02,\n",
       "           7.2382e-04,  1.0596e-01,  1.1065e-02, -6.9374e-02,  3.9061e-02,\n",
       "           4.6875e-02, -8.1994e-02,  5.1914e-02,  1.5138e-01, -1.6318e-01,\n",
       "           1.6437e-01, -7.3535e-03, -1.3580e-01,  2.5518e-02, -1.0330e-01,\n",
       "          -4.3622e-02, -1.5938e-01, -1.3283e-02, -2.9122e-02, -6.2698e-02,\n",
       "          -2.4125e-02, -1.2433e-01],\n",
       "         [-1.4603e-01, -1.4673e-01, -1.1442e-01,  1.0373e-01, -7.0506e-02,\n",
       "           1.7481e-01, -7.2441e-02, -8.2131e-02,  3.1104e-02, -3.1122e-02,\n",
       "           1.2223e-01, -1.3607e-01,  7.8526e-02,  1.2396e-01, -1.3664e-02,\n",
       "          -3.0080e-02, -1.2912e-01, -5.0315e-03, -3.0490e-02,  1.5008e-01,\n",
       "           9.0762e-02,  2.6059e-02,  1.7415e-01, -8.2906e-02,  1.6174e-01,\n",
       "          -9.4552e-02, -1.7516e-01,  6.7960e-02, -5.3941e-02,  8.7929e-02,\n",
       "           1.4189e-01, -1.4940e-01],\n",
       "         [ 1.5960e-01,  1.2023e-01, -5.7941e-02,  1.6612e-01, -1.0368e-02,\n",
       "           9.8301e-02,  1.0037e-02, -1.0567e-01,  1.1034e-03,  1.1775e-01,\n",
       "           1.5382e-01,  2.7134e-02,  1.0476e-02, -6.5967e-02,  9.5488e-02,\n",
       "          -7.6727e-02, -1.7626e-01, -6.6848e-02, -1.0203e-01,  1.6051e-01,\n",
       "          -4.2262e-02,  1.1275e-01,  9.4194e-02,  2.9539e-02,  1.2818e-01,\n",
       "           2.7767e-02,  1.6683e-01,  1.7637e-01, -1.0479e-01, -5.1454e-02,\n",
       "          -1.2521e-01, -7.1681e-03],\n",
       "         [ 1.4436e-01, -1.0595e-02, -1.3013e-01, -7.3015e-02,  5.9096e-02,\n",
       "          -1.1598e-01,  7.6776e-02, -1.0619e-01, -1.6594e-01, -6.6942e-03,\n",
       "          -1.1991e-01,  5.4537e-02, -1.3644e-01,  5.1131e-02,  3.1281e-02,\n",
       "           1.2271e-02, -4.8863e-02, -9.2499e-02,  1.0451e-01,  1.4416e-01,\n",
       "          -1.2573e-01,  1.7311e-01,  1.3524e-01, -4.2185e-02, -8.9508e-03,\n",
       "           1.0319e-01, -1.5733e-01, -1.8838e-04, -1.4184e-01,  7.7347e-02,\n",
       "           1.4969e-01, -7.5545e-02],\n",
       "         [ 8.7035e-02,  7.5561e-02, -3.8122e-02,  2.7965e-02,  1.4377e-01,\n",
       "           2.3625e-03, -2.2146e-02,  3.1406e-02, -1.5242e-01, -5.9885e-02,\n",
       "          -6.1433e-02, -8.8875e-02,  1.6525e-01,  8.2314e-02, -5.5543e-02,\n",
       "          -1.0236e-03,  1.3068e-01,  1.5290e-01,  8.3137e-02, -1.1952e-01,\n",
       "          -7.0313e-02,  5.1068e-02, -7.4337e-02, -1.3510e-01, -2.4203e-02,\n",
       "          -1.5189e-01,  1.6649e-02,  1.6921e-01,  5.5812e-04, -9.2663e-02,\n",
       "           1.1659e-01, -1.7621e-01],\n",
       "         [ 1.2764e-01,  1.7676e-01,  6.7152e-02, -1.7121e-01, -8.1999e-02,\n",
       "          -2.3961e-02, -1.1786e-01, -6.0169e-02,  3.4680e-02, -2.8924e-02,\n",
       "          -7.5055e-02, -5.3144e-02,  2.2909e-03, -1.7391e-01, -4.8428e-02,\n",
       "          -2.2949e-02, -1.6171e-01,  1.5548e-01,  9.4782e-02, -1.0923e-01,\n",
       "          -8.7838e-02,  1.3692e-01,  1.1349e-01,  5.4877e-02, -9.7554e-02,\n",
       "           1.8429e-02,  9.3286e-02,  1.0084e-02, -1.2313e-01,  2.6902e-02,\n",
       "           4.2867e-02,  2.8785e-03]], requires_grad=True),\n",
       " Parameter containing:\n",
       " tensor([-0.1380,  0.0903, -0.0381,  0.1659, -0.0037,  0.1651,  0.0118,  0.1635,\n",
       "          0.1136, -0.0941], requires_grad=True)]"
      ]
     },
     "execution_count": 69,
     "metadata": {},
     "output_type": "execute_result"
    }
   ],
   "source": [
    "#Create an Instance and set loss function & optimizer\n",
    "model_0 = MLP()\n",
    "\n",
    "loss_function = torch.nn.MSELoss()\n",
    "optimizer = None #working on creating the inverse optimization function based on grad and MSE\n",
    "\n",
    "list(model_0.parameters())\n"
   ]
  },
  {
   "cell_type": "code",
   "execution_count": 70,
   "metadata": {},
   "outputs": [
    {
     "data": {
      "text/plain": [
       "(torch.Size([30, 1920, 1080, 3]),\n",
       " <torch.utils.data.dataloader.DataLoader at 0x7f7d6898b550>)"
      ]
     },
     "execution_count": 70,
     "metadata": {},
     "output_type": "execute_result"
    }
   ],
   "source": [
    "#DUMMY VARIABLE FOR THE MOMENT\n",
    "t = 30 # time/ frame is a dummy variable for now\n",
    "trainData = torch.rand((t,1920,1080,3))\n",
    "\n",
    "#initialize loader\n",
    "trainLoader = torch.utils.data.DataLoader(trainData, batch_size=10, shuffle=True, num_workers=1)\n",
    "trainData.shape, trainLoader\n"
   ]
  },
  {
   "attachments": {},
   "cell_type": "markdown",
   "metadata": {},
   "source": [
    "### Training Loop\n"
   ]
  },
  {
   "cell_type": "code",
   "execution_count": 71,
   "metadata": {},
   "outputs": [],
   "source": [
    "def trainLoop():\n",
    "  #Track values\n",
    "  epoch_count = []\n",
    "  loss_values = []\n",
    "  test_loss_values = []\n",
    "  #Loop through data\n",
    "  for epoch in range(0, 5):\n",
    "      epoch_count.append(epoch)\n",
    "      # Set current loss value\n",
    "      current_loss = 0.0\n",
    "      # Set Model to training mode\n",
    "      model_0.train()\n",
    "  \n",
    "  #will implement trainLoader-style data feed system\n",
    "  \n",
    "  # Iterate over the DataLoader for training data\n",
    "  for i, data in enumerate(trainLoader, 0):\n",
    "    \n",
    "    # Determine inputs (4D tensor data)\n",
    "    inputs, targets = data\n",
    "    \n",
    "    # Zero the gradients\n",
    "    optimizer.zero_grad()\n",
    "    \n",
    "    # Perform forward pass\n",
    "    outputs = model_0(inputs)\n",
    "    \n",
    "    # Compute loss (training)\n",
    "    loss = loss_function(outputs, targets)\n",
    "    \n",
    "    # Perform backpropagation on loss with respect to params\n",
    "    loss.backward()\n",
    "    \n",
    "    # \n",
    "    optimizer.step()\n",
    "    \n",
    "    #Stat things\n",
    "    if(epoch % 10 == 0):\n",
    "        epoch_count.append(epoch)\n",
    "        loss_values.append(loss)\n",
    "        test_loss_values.append(test_loss)\n",
    "        print(f\"Epoch {epoch} | Loss: {loss} | Test loss: {test_loss}\")\n",
    "        # Print out the model state_dict()\n",
    "        print(model_0.state_dict())\n",
    "\n",
    "  print('Training finished')\n"
   ]
  },
  {
   "cell_type": "code",
   "execution_count": null,
   "metadata": {},
   "outputs": [],
   "source": [
    "trainLoop()  # Not functional yet"
   ]
  },
  {
   "cell_type": "code",
   "execution_count": null,
   "metadata": {},
   "outputs": [],
   "source": []
  }
 ],
 "metadata": {
  "kernelspec": {
   "display_name": "base",
   "language": "python",
   "name": "python3"
  },
  "language_info": {
   "codemirror_mode": {
    "name": "ipython",
    "version": 3
   },
   "file_extension": ".py",
   "mimetype": "text/x-python",
   "name": "python",
   "nbconvert_exporter": "python",
   "pygments_lexer": "ipython3",
   "version": "3.9.13"
  },
  "orig_nbformat": 4,
  "vscode": {
   "interpreter": {
    "hash": "07a481119aadb6992ff0da222930d2b0a8a26de193018adba40c1ff699702765"
   }
  }
 },
 "nbformat": 4,
 "nbformat_minor": 2
}
